{
 "cells": [
  {
   "cell_type": "code",
   "execution_count": 1,
   "metadata": {
    "ExecuteTime": {
     "end_time": "2021-05-31T18:30:21.613321Z",
     "start_time": "2021-05-31T18:30:21.476542Z"
    }
   },
   "outputs": [],
   "source": [
    "import gym\n",
    "import numpy as np\n",
    "import random"
   ]
  },
  {
   "cell_type": "code",
   "execution_count": 2,
   "metadata": {
    "ExecuteTime": {
     "end_time": "2021-05-31T18:30:22.351474Z",
     "start_time": "2021-05-31T18:30:21.661847Z"
    }
   },
   "outputs": [],
   "source": [
    "env = gym.make('SpaceInvaders-ram-v0')"
   ]
  },
  {
   "cell_type": "code",
   "execution_count": 3,
   "metadata": {
    "ExecuteTime": {
     "end_time": "2021-05-31T18:30:22.397358Z",
     "start_time": "2021-05-31T18:30:22.383471Z"
    }
   },
   "outputs": [],
   "source": [
    "actions = env.action_space.n"
   ]
  },
  {
   "cell_type": "code",
   "execution_count": 4,
   "metadata": {
    "ExecuteTime": {
     "end_time": "2021-05-31T18:30:22.443486Z",
     "start_time": "2021-05-31T18:30:22.429102Z"
    }
   },
   "outputs": [
    {
     "data": {
      "text/plain": [
       "(128,)"
      ]
     },
     "execution_count": 4,
     "metadata": {},
     "output_type": "execute_result"
    }
   ],
   "source": [
    "env.observation_space.shape"
   ]
  },
  {
   "cell_type": "code",
   "execution_count": 5,
   "metadata": {
    "ExecuteTime": {
     "end_time": "2021-05-31T18:30:22.951975Z",
     "start_time": "2021-05-31T18:30:22.934595Z"
    }
   },
   "outputs": [],
   "source": [
    "# episodes = 5\n",
    "# for episode in range(1, episodes+1):\n",
    "#     state = env.reset()\n",
    "#     done = False\n",
    "#     score = 0\n",
    "    \n",
    "#     while not done:\n",
    "#         env.render()\n",
    "#         action = random.choice([0,1,2,3,4,5])\n",
    "#         state, reward, done, info = env.step(action)\n",
    "#         score += reward\n",
    "#     print(f'Episode: {episode} Score: {score}')\n",
    "# env.close()"
   ]
  },
  {
   "cell_type": "code",
   "execution_count": 6,
   "metadata": {
    "ExecuteTime": {
     "end_time": "2021-05-31T18:30:27.282657Z",
     "start_time": "2021-05-31T18:30:23.530057Z"
    }
   },
   "outputs": [],
   "source": [
    "from tensorflow.keras.models import Sequential\n",
    "from tensorflow.keras.layers import Dense, Flatten"
   ]
  },
  {
   "cell_type": "code",
   "execution_count": 11,
   "metadata": {
    "ExecuteTime": {
     "end_time": "2021-05-31T18:30:58.385443Z",
     "start_time": "2021-05-31T18:30:58.369572Z"
    }
   },
   "outputs": [],
   "source": [
    "del model"
   ]
  },
  {
   "cell_type": "code",
   "execution_count": 12,
   "metadata": {
    "ExecuteTime": {
     "end_time": "2021-05-31T18:30:58.893732Z",
     "start_time": "2021-05-31T18:30:58.796830Z"
    }
   },
   "outputs": [],
   "source": [
    "model = Sequential()\n",
    "model.add(Flatten(input_shape=(5,) + env.observation_space.shape))\n",
    "# model.add(Dense(128, activation='relu'))\n",
    "# model.add(Dense(256, activation = 'relu'))\n",
    "model.add(Dense(512, activation = 'relu'))\n",
    "model.add(Dense(1024, activation = 'relu'))\n",
    "model.add(Dense(512, activation = 'relu'))\n",
    "model.add(Dense(256, activation = 'relu'))\n",
    "model.add(Dense(128, activation = 'relu'))\n",
    "model.add(Dense(64, activation = 'relu'))\n",
    "model.add(Dense(actions, activation='linear'))"
   ]
  },
  {
   "cell_type": "code",
   "execution_count": 8,
   "metadata": {
    "ExecuteTime": {
     "end_time": "2021-05-31T18:30:29.146628Z",
     "start_time": "2021-05-31T18:30:29.117370Z"
    }
   },
   "outputs": [],
   "source": [
    "from rl.agents import DQNAgent\n",
    "from rl.memory import SequentialMemory, Memory\n",
    "from rl.policy import LinearAnnealedPolicy, EpsGreedyQPolicy, BoltzmannQPolicy, MaxBoltzmannQPolicy, BoltzmannGumbelQPolicy"
   ]
  },
  {
   "cell_type": "code",
   "execution_count": 128,
   "metadata": {
    "ExecuteTime": {
     "end_time": "2021-05-28T23:42:12.690137Z",
     "start_time": "2021-05-28T23:42:12.683184Z"
    }
   },
   "outputs": [
    {
     "data": {
      "text/plain": [
       "0.02449489742783178"
      ]
     },
     "execution_count": 128,
     "metadata": {},
     "output_type": "execute_result"
    }
   ],
   "source": [
    "1/(np.sqrt(10000/6))"
   ]
  },
  {
   "cell_type": "code",
   "execution_count": 9,
   "metadata": {
    "ExecuteTime": {
     "end_time": "2021-05-31T18:30:33.778580Z",
     "start_time": "2021-05-31T18:30:33.760723Z"
    }
   },
   "outputs": [],
   "source": [
    "def build_agent(model, actions, c, n):\n",
    "    policy = BoltzmannGumbelQPolicy(c)\n",
    "    memory = SequentialMemory(limit=n, window_length=5)\n",
    "    dqn = DQNAgent(model=model, memory=memory, policy=policy, \n",
    "                   test_policy=BoltzmannQPolicy(1/(np.sqrt(n/actions))),\n",
    "                   enable_dueling_network=True, dueling_type='avg', nb_actions=actions, \n",
    "                   nb_steps_warmup=1000)\n",
    "    return dqn"
   ]
  },
  {
   "cell_type": "code",
   "execution_count": 13,
   "metadata": {
    "ExecuteTime": {
     "end_time": "2021-05-31T18:31:02.429655Z",
     "start_time": "2021-05-31T18:31:02.387963Z"
    }
   },
   "outputs": [],
   "source": [
    "dqn = build_agent(model, 6, 2, 100000)"
   ]
  },
  {
   "cell_type": "code",
   "execution_count": 14,
   "metadata": {
    "ExecuteTime": {
     "end_time": "2021-05-31T18:31:03.877090Z",
     "start_time": "2021-05-31T18:31:03.398537Z"
    }
   },
   "outputs": [],
   "source": [
    "dqn.compile(optimizer='adam')"
   ]
  },
  {
   "cell_type": "code",
   "execution_count": 24,
   "metadata": {
    "ExecuteTime": {
     "end_time": "2021-05-31T23:06:43.939295Z",
     "start_time": "2021-05-31T22:39:08.396090Z"
    },
    "scrolled": true
   },
   "outputs": [
    {
     "name": "stdout",
     "output_type": "stream",
     "text": [
      "Training for 100000 steps ...\n",
      "Interval 1 (0 steps performed)\n",
      "10000/10000 [==============================] - 152s 15ms/step - reward: 0.2420\n",
      "12 episodes - episode_reward: 186.250 [35.000, 600.000] - loss: 6.039 - mean_q: 52.008 - ale.lives: 2.106\n",
      "\n",
      "Interval 2 (10000 steps performed)\n",
      "10000/10000 [==============================] - 164s 16ms/step - reward: 0.2870\n",
      "10 episodes - episode_reward: 299.500 [185.000, 600.000] - loss: 6.197 - mean_q: 52.132 - ale.lives: 2.076\n",
      "\n",
      "Interval 3 (20000 steps performed)\n",
      "10000/10000 [==============================] - 166s 17ms/step - reward: 0.2155\n",
      "13 episodes - episode_reward: 158.462 [60.000, 345.000] - loss: 7.137 - mean_q: 52.335 - ale.lives: 1.861\n",
      "\n",
      "Interval 4 (30000 steps performed)\n",
      "10000/10000 [==============================] - 166s 17ms/step - reward: 0.2960\n",
      "12 episodes - episode_reward: 259.583 [75.000, 470.000] - loss: 7.512 - mean_q: 52.309 - ale.lives: 2.032\n",
      "\n",
      "Interval 5 (40000 steps performed)\n",
      "10000/10000 [==============================] - 166s 17ms/step - reward: 0.2645\n",
      "13 episodes - episode_reward: 200.769 [40.000, 500.000] - loss: 5.744 - mean_q: 52.539 - ale.lives: 2.128\n",
      "\n",
      "Interval 6 (50000 steps performed)\n",
      "10000/10000 [==============================] - 166s 17ms/step - reward: 0.2730\n",
      "13 episodes - episode_reward: 212.692 [85.000, 395.000] - loss: 6.407 - mean_q: 52.294 - ale.lives: 2.029\n",
      "\n",
      "Interval 7 (60000 steps performed)\n",
      "10000/10000 [==============================] - 166s 17ms/step - reward: 0.2620\n",
      "11 episodes - episode_reward: 236.818 [15.000, 745.000] - loss: 5.898 - mean_q: 51.843 - ale.lives: 2.382\n",
      "\n",
      "Interval 8 (70000 steps performed)\n",
      "10000/10000 [==============================] - 167s 17ms/step - reward: 0.2920\n",
      "11 episodes - episode_reward: 249.545 [50.000, 520.000] - loss: 5.844 - mean_q: 51.186 - ale.lives: 2.115\n",
      "\n",
      "Interval 9 (80000 steps performed)\n",
      "10000/10000 [==============================] - 166s 17ms/step - reward: 0.2480\n",
      "11 episodes - episode_reward: 235.909 [110.000, 525.000] - loss: 6.400 - mean_q: 50.842 - ale.lives: 2.246\n",
      "\n",
      "Interval 10 (90000 steps performed)\n",
      "10000/10000 [==============================] - 166s 17ms/step - reward: 0.2635\n",
      "done, took 1644.730 seconds\n",
      "Testing for 5 episodes ...\n",
      "Episode 1: reward: 105.000, steps: 603\n",
      "Episode 2: reward: 80.000, steps: 388\n",
      "Episode 3: reward: 50.000, steps: 345\n",
      "Episode 4: reward: 35.000, steps: 514\n",
      "Episode 5: reward: 60.000, steps: 663\n",
      "Mean reward:  66.0\n",
      "400000.0\n"
     ]
    }
   ],
   "source": [
    "dqn.fit(env, nb_steps=100000, visualize=False, verbose=1)\n",
    "scores = dqn.test(env, nb_episodes=5, visualize=True)\n",
    "print('Mean reward: ',np.mean(scores.history['episode_reward']))\n",
    "env.close()\n",
    "iterations += 1e5\n",
    "print(iterations)"
   ]
  },
  {
   "cell_type": "code",
   "execution_count": null,
   "metadata": {
    "ExecuteTime": {
     "end_time": "2021-05-31T22:36:27.716649Z",
     "start_time": "2021-05-31T22:08:43.623Z"
    }
   },
   "outputs": [],
   "source": [
    "dqn.save_weights('./saved_weights/dqn-bge.h5f', overwrite=True)"
   ]
  },
  {
   "cell_type": "code",
   "execution_count": 62,
   "metadata": {
    "ExecuteTime": {
     "end_time": "2021-05-28T22:14:00.596267Z",
     "start_time": "2021-05-28T22:13:46.029266Z"
    }
   },
   "outputs": [
    {
     "name": "stdout",
     "output_type": "stream",
     "text": [
      "Testing for 5 episodes ...\n",
      "Episode 1: reward: 180.000, steps: 876\n",
      "Episode 2: reward: 210.000, steps: 846\n",
      "Episode 3: reward: 80.000, steps: 529\n",
      "Episode 4: reward: 105.000, steps: 655\n",
      "Episode 5: reward: 260.000, steps: 977\n",
      "167.0\n"
     ]
    }
   ],
   "source": [
    "scores = dqn.test(env, nb_episodes=5, visualize=True)\n",
    "print(np.mean(scores.history['episode_reward']))\n",
    "env.close()"
   ]
  },
  {
   "cell_type": "code",
   "execution_count": 23,
   "metadata": {
    "ExecuteTime": {
     "end_time": "2021-05-31T22:38:47.804188Z",
     "start_time": "2021-05-31T22:38:47.790299Z"
    }
   },
   "outputs": [],
   "source": [
    "iterations = 300000"
   ]
  },
  {
   "cell_type": "code",
   "execution_count": null,
   "metadata": {},
   "outputs": [],
   "source": []
  },
  {
   "cell_type": "code",
   "execution_count": null,
   "metadata": {},
   "outputs": [],
   "source": []
  },
  {
   "cell_type": "code",
   "execution_count": null,
   "metadata": {},
   "outputs": [],
   "source": []
  },
  {
   "cell_type": "code",
   "execution_count": null,
   "metadata": {},
   "outputs": [],
   "source": []
  },
  {
   "cell_type": "code",
   "execution_count": null,
   "metadata": {},
   "outputs": [],
   "source": []
  },
  {
   "cell_type": "code",
   "execution_count": null,
   "metadata": {},
   "outputs": [],
   "source": []
  },
  {
   "cell_type": "code",
   "execution_count": null,
   "metadata": {},
   "outputs": [],
   "source": []
  },
  {
   "cell_type": "code",
   "execution_count": null,
   "metadata": {},
   "outputs": [],
   "source": []
  }
 ],
 "metadata": {
  "kernelspec": {
   "display_name": "Python 3",
   "language": "python",
   "name": "python3"
  },
  "language_info": {
   "codemirror_mode": {
    "name": "ipython",
    "version": 3
   },
   "file_extension": ".py",
   "mimetype": "text/x-python",
   "name": "python",
   "nbconvert_exporter": "python",
   "pygments_lexer": "ipython3",
   "version": "3.8.5"
  },
  "toc": {
   "base_numbering": 1,
   "nav_menu": {},
   "number_sections": true,
   "sideBar": true,
   "skip_h1_title": false,
   "title_cell": "Table of Contents",
   "title_sidebar": "Contents",
   "toc_cell": false,
   "toc_position": {},
   "toc_section_display": true,
   "toc_window_display": false
  },
  "varInspector": {
   "cols": {
    "lenName": 16,
    "lenType": 16,
    "lenVar": 40
   },
   "kernels_config": {
    "python": {
     "delete_cmd_postfix": "",
     "delete_cmd_prefix": "del ",
     "library": "var_list.py",
     "varRefreshCmd": "print(var_dic_list())"
    },
    "r": {
     "delete_cmd_postfix": ") ",
     "delete_cmd_prefix": "rm(",
     "library": "var_list.r",
     "varRefreshCmd": "cat(var_dic_list()) "
    }
   },
   "types_to_exclude": [
    "module",
    "function",
    "builtin_function_or_method",
    "instance",
    "_Feature"
   ],
   "window_display": false
  }
 },
 "nbformat": 4,
 "nbformat_minor": 4
}
